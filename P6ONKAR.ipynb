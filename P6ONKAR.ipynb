{
 "cells": [
  {
   "cell_type": "code",
   "execution_count": null,
   "id": "75ecfb87-5998-4b7b-9a44-80cbab7281b2",
   "metadata": {},
   "outputs": [],
   "source": [
    "                                               ASSIGNMENT_NO 06"
   ]
  },
  {
   "cell_type": "code",
   "execution_count": null,
   "id": "4c4992d7-11b0-4254-96fd-44eb263be51b",
   "metadata": {},
   "outputs": [],
   "source": [
    "AIM: \n",
    "1. Concepts used in Naïve Bayes classifier\n",
    "2. Naive Bayes Example\n",
    "3. Confusion Matrix Evaluation Metrics"
   ]
  },
  {
   "cell_type": "code",
   "execution_count": 34,
   "id": "fb678af8-ae30-4c3a-9242-d5e4bc1257ff",
   "metadata": {},
   "outputs": [],
   "source": [
    "import pandas as pd\n",
    "import numpy as np\n",
    "import seaborn as s\n",
    "import matplotlib.pyplot as plt\n",
    "from sklearn.model_selection import train_test_split\n",
    "from sklearn.preprocessing import StandardScaler\n",
    "from sklearn.naive_bayes import GaussianNB\n",
    "from sklearn.metrics import accuracy_score, precision_score, recall_score, confusion_matrix, classification_report,recall_score"
   ]
  },
  {
   "cell_type": "code",
   "execution_count": 4,
   "id": "02876d70-e5e6-4128-b8b9-e1bff51187a8",
   "metadata": {},
   "outputs": [],
   "source": [
    "dataset = s.load_dataset(\"iris\")"
   ]
  },
  {
   "cell_type": "code",
   "execution_count": 6,
   "id": "272e534e-ec66-415a-b168-26c4cc0c2966",
   "metadata": {},
   "outputs": [
    {
     "data": {
      "text/html": [
       "<div>\n",
       "<style scoped>\n",
       "    .dataframe tbody tr th:only-of-type {\n",
       "        vertical-align: middle;\n",
       "    }\n",
       "\n",
       "    .dataframe tbody tr th {\n",
       "        vertical-align: top;\n",
       "    }\n",
       "\n",
       "    .dataframe thead th {\n",
       "        text-align: right;\n",
       "    }\n",
       "</style>\n",
       "<table border=\"1\" class=\"dataframe\">\n",
       "  <thead>\n",
       "    <tr style=\"text-align: right;\">\n",
       "      <th></th>\n",
       "      <th>sepal_length</th>\n",
       "      <th>sepal_width</th>\n",
       "      <th>petal_length</th>\n",
       "      <th>petal_width</th>\n",
       "      <th>species</th>\n",
       "    </tr>\n",
       "  </thead>\n",
       "  <tbody>\n",
       "    <tr>\n",
       "      <th>0</th>\n",
       "      <td>5.1</td>\n",
       "      <td>3.5</td>\n",
       "      <td>1.4</td>\n",
       "      <td>0.2</td>\n",
       "      <td>setosa</td>\n",
       "    </tr>\n",
       "    <tr>\n",
       "      <th>1</th>\n",
       "      <td>4.9</td>\n",
       "      <td>3.0</td>\n",
       "      <td>1.4</td>\n",
       "      <td>0.2</td>\n",
       "      <td>setosa</td>\n",
       "    </tr>\n",
       "    <tr>\n",
       "      <th>2</th>\n",
       "      <td>4.7</td>\n",
       "      <td>3.2</td>\n",
       "      <td>1.3</td>\n",
       "      <td>0.2</td>\n",
       "      <td>setosa</td>\n",
       "    </tr>\n",
       "    <tr>\n",
       "      <th>3</th>\n",
       "      <td>4.6</td>\n",
       "      <td>3.1</td>\n",
       "      <td>1.5</td>\n",
       "      <td>0.2</td>\n",
       "      <td>setosa</td>\n",
       "    </tr>\n",
       "    <tr>\n",
       "      <th>4</th>\n",
       "      <td>5.0</td>\n",
       "      <td>3.6</td>\n",
       "      <td>1.4</td>\n",
       "      <td>0.2</td>\n",
       "      <td>setosa</td>\n",
       "    </tr>\n",
       "    <tr>\n",
       "      <th>...</th>\n",
       "      <td>...</td>\n",
       "      <td>...</td>\n",
       "      <td>...</td>\n",
       "      <td>...</td>\n",
       "      <td>...</td>\n",
       "    </tr>\n",
       "    <tr>\n",
       "      <th>145</th>\n",
       "      <td>6.7</td>\n",
       "      <td>3.0</td>\n",
       "      <td>5.2</td>\n",
       "      <td>2.3</td>\n",
       "      <td>virginica</td>\n",
       "    </tr>\n",
       "    <tr>\n",
       "      <th>146</th>\n",
       "      <td>6.3</td>\n",
       "      <td>2.5</td>\n",
       "      <td>5.0</td>\n",
       "      <td>1.9</td>\n",
       "      <td>virginica</td>\n",
       "    </tr>\n",
       "    <tr>\n",
       "      <th>147</th>\n",
       "      <td>6.5</td>\n",
       "      <td>3.0</td>\n",
       "      <td>5.2</td>\n",
       "      <td>2.0</td>\n",
       "      <td>virginica</td>\n",
       "    </tr>\n",
       "    <tr>\n",
       "      <th>148</th>\n",
       "      <td>6.2</td>\n",
       "      <td>3.4</td>\n",
       "      <td>5.4</td>\n",
       "      <td>2.3</td>\n",
       "      <td>virginica</td>\n",
       "    </tr>\n",
       "    <tr>\n",
       "      <th>149</th>\n",
       "      <td>5.9</td>\n",
       "      <td>3.0</td>\n",
       "      <td>5.1</td>\n",
       "      <td>1.8</td>\n",
       "      <td>virginica</td>\n",
       "    </tr>\n",
       "  </tbody>\n",
       "</table>\n",
       "<p>150 rows × 5 columns</p>\n",
       "</div>"
      ],
      "text/plain": [
       "     sepal_length  sepal_width  petal_length  petal_width    species\n",
       "0             5.1          3.5           1.4          0.2     setosa\n",
       "1             4.9          3.0           1.4          0.2     setosa\n",
       "2             4.7          3.2           1.3          0.2     setosa\n",
       "3             4.6          3.1           1.5          0.2     setosa\n",
       "4             5.0          3.6           1.4          0.2     setosa\n",
       "..            ...          ...           ...          ...        ...\n",
       "145           6.7          3.0           5.2          2.3  virginica\n",
       "146           6.3          2.5           5.0          1.9  virginica\n",
       "147           6.5          3.0           5.2          2.0  virginica\n",
       "148           6.2          3.4           5.4          2.3  virginica\n",
       "149           5.9          3.0           5.1          1.8  virginica\n",
       "\n",
       "[150 rows x 5 columns]"
      ]
     },
     "execution_count": 6,
     "metadata": {},
     "output_type": "execute_result"
    }
   ],
   "source": [
    "dataset\n",
    "\n"
   ]
  },
  {
   "cell_type": "code",
   "execution_count": 8,
   "id": "3dd187bf-9bea-4aee-a3e0-93109a0578fa",
   "metadata": {},
   "outputs": [
    {
     "name": "stdout",
     "output_type": "stream",
     "text": [
      "sepal_length    0\n",
      "sepal_width     0\n",
      "petal_length    0\n",
      "petal_width     0\n",
      "species         0\n",
      "dtype: int64\n"
     ]
    }
   ],
   "source": [
    "print(dataset.isnull().sum())"
   ]
  },
  {
   "cell_type": "code",
   "execution_count": 10,
   "id": "9df0336b-c3be-443e-b804-cf1d98ecc644",
   "metadata": {},
   "outputs": [],
   "source": [
    "X = dataset.drop(columns=['species'])\n",
    "Y = dataset['species']\n"
   ]
  },
  {
   "cell_type": "code",
   "execution_count": 11,
   "id": "85d45c98-58aa-4e9e-b68a-3da76f4fcf57",
   "metadata": {},
   "outputs": [
    {
     "data": {
      "text/html": [
       "<div>\n",
       "<style scoped>\n",
       "    .dataframe tbody tr th:only-of-type {\n",
       "        vertical-align: middle;\n",
       "    }\n",
       "\n",
       "    .dataframe tbody tr th {\n",
       "        vertical-align: top;\n",
       "    }\n",
       "\n",
       "    .dataframe thead th {\n",
       "        text-align: right;\n",
       "    }\n",
       "</style>\n",
       "<table border=\"1\" class=\"dataframe\">\n",
       "  <thead>\n",
       "    <tr style=\"text-align: right;\">\n",
       "      <th></th>\n",
       "      <th>sepal_length</th>\n",
       "      <th>sepal_width</th>\n",
       "      <th>petal_length</th>\n",
       "      <th>petal_width</th>\n",
       "    </tr>\n",
       "  </thead>\n",
       "  <tbody>\n",
       "    <tr>\n",
       "      <th>0</th>\n",
       "      <td>5.1</td>\n",
       "      <td>3.5</td>\n",
       "      <td>1.4</td>\n",
       "      <td>0.2</td>\n",
       "    </tr>\n",
       "    <tr>\n",
       "      <th>1</th>\n",
       "      <td>4.9</td>\n",
       "      <td>3.0</td>\n",
       "      <td>1.4</td>\n",
       "      <td>0.2</td>\n",
       "    </tr>\n",
       "    <tr>\n",
       "      <th>2</th>\n",
       "      <td>4.7</td>\n",
       "      <td>3.2</td>\n",
       "      <td>1.3</td>\n",
       "      <td>0.2</td>\n",
       "    </tr>\n",
       "    <tr>\n",
       "      <th>3</th>\n",
       "      <td>4.6</td>\n",
       "      <td>3.1</td>\n",
       "      <td>1.5</td>\n",
       "      <td>0.2</td>\n",
       "    </tr>\n",
       "    <tr>\n",
       "      <th>4</th>\n",
       "      <td>5.0</td>\n",
       "      <td>3.6</td>\n",
       "      <td>1.4</td>\n",
       "      <td>0.2</td>\n",
       "    </tr>\n",
       "    <tr>\n",
       "      <th>...</th>\n",
       "      <td>...</td>\n",
       "      <td>...</td>\n",
       "      <td>...</td>\n",
       "      <td>...</td>\n",
       "    </tr>\n",
       "    <tr>\n",
       "      <th>145</th>\n",
       "      <td>6.7</td>\n",
       "      <td>3.0</td>\n",
       "      <td>5.2</td>\n",
       "      <td>2.3</td>\n",
       "    </tr>\n",
       "    <tr>\n",
       "      <th>146</th>\n",
       "      <td>6.3</td>\n",
       "      <td>2.5</td>\n",
       "      <td>5.0</td>\n",
       "      <td>1.9</td>\n",
       "    </tr>\n",
       "    <tr>\n",
       "      <th>147</th>\n",
       "      <td>6.5</td>\n",
       "      <td>3.0</td>\n",
       "      <td>5.2</td>\n",
       "      <td>2.0</td>\n",
       "    </tr>\n",
       "    <tr>\n",
       "      <th>148</th>\n",
       "      <td>6.2</td>\n",
       "      <td>3.4</td>\n",
       "      <td>5.4</td>\n",
       "      <td>2.3</td>\n",
       "    </tr>\n",
       "    <tr>\n",
       "      <th>149</th>\n",
       "      <td>5.9</td>\n",
       "      <td>3.0</td>\n",
       "      <td>5.1</td>\n",
       "      <td>1.8</td>\n",
       "    </tr>\n",
       "  </tbody>\n",
       "</table>\n",
       "<p>150 rows × 4 columns</p>\n",
       "</div>"
      ],
      "text/plain": [
       "     sepal_length  sepal_width  petal_length  petal_width\n",
       "0             5.1          3.5           1.4          0.2\n",
       "1             4.9          3.0           1.4          0.2\n",
       "2             4.7          3.2           1.3          0.2\n",
       "3             4.6          3.1           1.5          0.2\n",
       "4             5.0          3.6           1.4          0.2\n",
       "..            ...          ...           ...          ...\n",
       "145           6.7          3.0           5.2          2.3\n",
       "146           6.3          2.5           5.0          1.9\n",
       "147           6.5          3.0           5.2          2.0\n",
       "148           6.2          3.4           5.4          2.3\n",
       "149           5.9          3.0           5.1          1.8\n",
       "\n",
       "[150 rows x 4 columns]"
      ]
     },
     "execution_count": 11,
     "metadata": {},
     "output_type": "execute_result"
    }
   ],
   "source": [
    "X"
   ]
  },
  {
   "cell_type": "code",
   "execution_count": 12,
   "id": "48049222-1cf9-4641-b1ff-16c140af4b85",
   "metadata": {},
   "outputs": [
    {
     "data": {
      "text/plain": [
       "0         setosa\n",
       "1         setosa\n",
       "2         setosa\n",
       "3         setosa\n",
       "4         setosa\n",
       "         ...    \n",
       "145    virginica\n",
       "146    virginica\n",
       "147    virginica\n",
       "148    virginica\n",
       "149    virginica\n",
       "Name: species, Length: 150, dtype: object"
      ]
     },
     "execution_count": 12,
     "metadata": {},
     "output_type": "execute_result"
    }
   ],
   "source": [
    "Y"
   ]
  },
  {
   "cell_type": "code",
   "execution_count": 14,
   "id": "aea57a63-77bc-4740-b74d-2ae580f4bd3b",
   "metadata": {},
   "outputs": [],
   "source": [
    "X_train, X_test, y_train, y_test = train_test_split(X, Y, test_size=0.2, random_state=42)\n",
    "scaler = StandardScaler()\n",
    "X_train = scaler.fit_transform(X_train)\n",
    "X_test = scaler.transform(X_test)\n"
   ]
  },
  {
   "cell_type": "code",
   "execution_count": 15,
   "id": "f7ac326a-984e-49cb-857b-8218fac0e3e0",
   "metadata": {},
   "outputs": [
    {
     "data": {
      "text/plain": [
       "array([[-1.47393679,  1.20365799, -1.56253475, -1.31260282],\n",
       "       [-0.13307079,  2.99237573, -1.27600637, -1.04563275],\n",
       "       [ 1.08589829,  0.08570939,  0.38585821,  0.28921757],\n",
       "       [-1.23014297,  0.75647855, -1.2187007 , -1.31260282],\n",
       "       [-1.7177306 ,  0.30929911, -1.39061772, -1.31260282],\n",
       "       [ 0.59831066, -1.25582892,  0.72969227,  0.95664273],\n",
       "       [ 0.72020757,  0.30929911,  0.44316389,  0.4227026 ],\n",
       "       [-0.74255534,  0.98006827, -1.27600637, -1.31260282],\n",
       "       [-0.98634915,  1.20365799, -1.33331205, -1.31260282],\n",
       "       [-0.74255534,  2.32160658, -1.27600637, -1.44608785],\n",
       "       [-0.01117388, -0.80864948,  0.78699794,  0.95664273],\n",
       "       [ 0.23261993,  0.75647855,  0.44316389,  0.55618763],\n",
       "       [ 1.08589829,  0.08570939,  0.55777524,  0.4227026 ],\n",
       "       [-0.49876152,  1.87442714, -1.39061772, -1.04563275],\n",
       "       [-0.49876152,  1.4272477 , -1.27600637, -1.31260282],\n",
       "       [-0.37686461, -1.47941864, -0.01528151, -0.24472256],\n",
       "       [ 0.59831066, -0.58505976,  0.78699794,  0.4227026 ],\n",
       "       [ 0.72020757,  0.08570939,  1.01622064,  0.8231577 ],\n",
       "       [ 0.96400139, -0.13788033,  0.38585821,  0.28921757],\n",
       "       [ 1.69538284,  1.20365799,  1.3600547 ,  1.75755292],\n",
       "       [-0.13307079, -0.36147005,  0.27124686,  0.15573254],\n",
       "       [ 2.18297047, -0.13788033,  1.64658307,  1.22361279],\n",
       "       [-0.2549677 , -0.13788033,  0.44316389,  0.4227026 ],\n",
       "       [-0.86445224,  0.98006827, -1.33331205, -1.31260282],\n",
       "       [ 2.30486738, -0.58505976,  1.70388875,  1.09012776],\n",
       "       [-0.01117388, -0.80864948,  0.21394119, -0.24472256],\n",
       "       [-0.74255534,  0.75647855, -1.33331205, -1.31260282],\n",
       "       [-0.98634915,  0.98006827, -1.39061772, -1.17911778],\n",
       "       [-0.86445224,  1.65083742, -1.04678367, -1.04563275],\n",
       "       [-0.98634915, -2.37377751, -0.12989286, -0.24472256],\n",
       "       [ 0.59831066, -0.80864948,  0.67238659,  0.8231577 ],\n",
       "       [-1.23014297,  0.75647855, -1.04678367, -1.31260282],\n",
       "       [-0.98634915, -0.13788033, -1.2187007 , -1.31260282],\n",
       "       [-0.86445224,  0.53288883, -1.16139502, -0.91214772],\n",
       "       [-0.2549677 , -0.80864948,  0.27124686,  0.15573254],\n",
       "       [-0.86445224,  0.75647855, -1.27600637, -1.31260282],\n",
       "       [-0.13307079, -0.13788033,  0.27124686,  0.02224751],\n",
       "       [ 2.30486738,  1.65083742,  1.70388875,  1.35709783],\n",
       "       [-1.47393679,  0.30929911, -1.33331205, -1.31260282],\n",
       "       [ 0.47641375, -0.36147005,  0.32855254,  0.15573254],\n",
       "       [-0.13307079, -1.25582892,  0.72969227,  1.09012776],\n",
       "       [-0.37686461,  2.5451963 , -1.33331205, -1.31260282],\n",
       "       [ 0.23261993, -0.13788033,  0.61508092,  0.8231577 ],\n",
       "       [-0.01117388, -0.80864948,  0.78699794,  0.95664273],\n",
       "       [ 0.23261993, -1.92659808,  0.15663551, -0.24472256],\n",
       "       [-0.49876152, -0.13788033,  0.44316389,  0.4227026 ],\n",
       "       [ 0.47641375,  0.75647855,  0.95891497,  1.49058286],\n",
       "       [-0.37686461, -1.70300836,  0.15663551,  0.15573254],\n",
       "       [-0.49876152,  1.87442714, -1.16139502, -1.04563275],\n",
       "       [-0.98634915, -1.70300836, -0.24450422, -0.24472256],\n",
       "       [ 0.72020757, -0.80864948,  0.90160929,  0.95664273],\n",
       "       [-0.98634915,  0.53288883, -1.33331205, -1.31260282],\n",
       "       [-0.98634915,  0.30929911, -1.4479234 , -1.31260282],\n",
       "       [-0.37686461, -1.47941864,  0.04202416, -0.11123753],\n",
       "       [ 1.08589829, -0.13788033,  0.72969227,  0.68967267],\n",
       "       [-1.10824606,  0.08570939, -1.27600637, -1.31260282],\n",
       "       [-0.01117388, -0.58505976,  0.78699794,  1.62406789],\n",
       "       [-0.98634915,  0.75647855, -1.27600637, -1.31260282],\n",
       "       [-0.98634915,  0.98006827, -1.2187007 , -0.77866269],\n",
       "       [ 0.11072303,  0.30929911,  0.61508092,  0.8231577 ],\n",
       "       [-0.86445224, -1.25582892, -0.41642124, -0.11123753],\n",
       "       [ 1.32969211,  0.30929911,  1.130832  ,  1.49058286],\n",
       "       [ 0.23261993, -0.80864948,  0.78699794,  0.55618763],\n",
       "       [ 0.35451684, -1.0322392 ,  1.07352632,  0.28921757],\n",
       "       [ 2.30486738, -0.13788033,  1.3600547 ,  1.49058286],\n",
       "       [-0.37686461, -1.25582892,  0.15663551,  0.15573254],\n",
       "       [-1.7177306 , -0.36147005, -1.33331205, -1.31260282],\n",
       "       [-1.83962751, -0.13788033, -1.50522907, -1.44608785],\n",
       "       [ 0.23261993, -1.92659808,  0.72969227,  0.4227026 ],\n",
       "       [ 1.69538284,  0.30929911,  1.30274902,  0.8231577 ],\n",
       "       [-1.47393679,  0.08570939, -1.27600637, -1.31260282],\n",
       "       [-0.86445224,  0.98006827, -1.33331205, -1.17911778],\n",
       "       [-1.7177306 , -0.13788033, -1.39061772, -1.31260282],\n",
       "       [ 0.59831066, -1.25582892,  0.67238659,  0.4227026 ],\n",
       "       [ 0.59831066,  0.75647855,  1.07352632,  1.62406789],\n",
       "       [-1.47393679,  0.75647855, -1.33331205, -1.17911778],\n",
       "       [ 1.2077952 , -0.13788033,  1.01622064,  1.22361279],\n",
       "       [ 0.59831066,  0.53288883,  1.30274902,  1.75755292],\n",
       "       [-1.35203988,  0.30929911, -1.39061772, -1.31260282],\n",
       "       [ 0.35451684, -0.36147005,  0.55777524,  0.28921757],\n",
       "       [ 0.84210448, -0.58505976,  0.50046957,  0.4227026 ],\n",
       "       [ 0.47641375, -0.58505976,  0.61508092,  0.8231577 ],\n",
       "       [ 1.45158902,  0.30929911,  0.55777524,  0.28921757],\n",
       "       [ 0.72020757,  0.30929911,  0.90160929,  1.49058286],\n",
       "       [-0.86445224,  1.65083742, -1.2187007 , -1.31260282],\n",
       "       [ 1.32969211,  0.08570939,  0.95891497,  1.22361279],\n",
       "       [ 0.11072303, -0.13788033,  0.27124686,  0.4227026 ],\n",
       "       [ 0.84210448, -0.13788033,  0.84430362,  1.09012776],\n",
       "       [-0.13307079, -1.0322392 , -0.12989286, -0.24472256],\n",
       "       [-0.74255534, -0.80864948,  0.09932984,  0.28921757],\n",
       "       [ 0.35451684, -0.13788033,  0.50046957,  0.28921757],\n",
       "       [-1.5958337 , -1.70300836, -1.39061772, -1.17911778],\n",
       "       [ 0.96400139, -0.36147005,  0.50046957,  0.15573254],\n",
       "       [-0.37686461, -1.0322392 ,  0.38585821,  0.02224751],\n",
       "       [-0.62065843,  1.4272477 , -1.27600637, -1.31260282],\n",
       "       [-0.2549677 , -0.13788033,  0.21394119,  0.15573254],\n",
       "       [ 1.81727975, -0.36147005,  1.47466605,  0.8231577 ],\n",
       "       [ 1.08589829,  0.53288883,  1.130832  ,  1.22361279],\n",
       "       [-0.86445224,  1.4272477 , -1.27600637, -1.04563275],\n",
       "       [-1.10824606, -1.47941864, -0.24450422, -0.24472256],\n",
       "       [ 1.08589829,  0.53288883,  1.130832  ,  1.75755292],\n",
       "       [ 1.69538284, -0.13788033,  1.18813767,  0.55618763],\n",
       "       [-1.10824606,  1.20365799, -1.33331205, -1.44608785],\n",
       "       [ 1.08589829,  0.08570939,  1.07352632,  1.62406789],\n",
       "       [-1.10824606, -0.13788033, -1.33331205, -1.31260282],\n",
       "       [ 1.32969211,  0.08570939,  0.67238659,  0.4227026 ],\n",
       "       [ 1.93917666, -0.58505976,  1.3600547 ,  0.95664273],\n",
       "       [ 0.59831066, -0.36147005,  1.07352632,  0.8231577 ],\n",
       "       [-0.13307079, -0.58505976,  0.21394119,  0.15573254],\n",
       "       [ 0.84210448, -0.13788033,  1.01622064,  0.8231577 ],\n",
       "       [ 0.59831066, -1.70300836,  0.38585821,  0.15573254],\n",
       "       [ 0.72020757, -0.36147005,  0.32855254,  0.15573254],\n",
       "       [-0.2549677 , -0.58505976,  0.67238659,  1.09012776],\n",
       "       [ 0.11072303, -0.13788033,  0.78699794,  0.8231577 ],\n",
       "       [-0.49876152,  0.75647855, -1.16139502, -1.31260282],\n",
       "       [ 0.35451684, -0.58505976,  0.15663551,  0.15573254],\n",
       "       [-1.10824606, -1.25582892,  0.44316389,  0.68967267],\n",
       "       [-0.01117388,  2.09801686, -1.4479234 , -1.31260282],\n",
       "       [-0.01117388, -1.0322392 ,  0.15663551,  0.02224751],\n",
       "       [ 1.57348593, -0.13788033,  1.24544335,  1.22361279]])"
      ]
     },
     "execution_count": 15,
     "metadata": {},
     "output_type": "execute_result"
    }
   ],
   "source": [
    "X_train"
   ]
  },
  {
   "cell_type": "code",
   "execution_count": 16,
   "id": "bd51df58-997a-4b65-a00e-f1290d0a80d1",
   "metadata": {},
   "outputs": [
    {
     "data": {
      "text/plain": [
       "array([[ 0.35451684, -0.58505976,  0.55777524,  0.02224751],\n",
       "       [-0.13307079,  1.65083742, -1.16139502, -1.17911778],\n",
       "       [ 2.30486738, -1.0322392 ,  1.8185001 ,  1.49058286],\n",
       "       [ 0.23261993, -0.36147005,  0.44316389,  0.4227026 ],\n",
       "       [ 1.2077952 , -0.58505976,  0.61508092,  0.28921757],\n",
       "       [-0.49876152,  0.75647855, -1.27600637, -1.04563275],\n",
       "       [-0.2549677 , -0.36147005, -0.07258719,  0.15573254],\n",
       "       [ 1.32969211,  0.08570939,  0.78699794,  1.49058286],\n",
       "       [ 0.47641375, -1.92659808,  0.44316389,  0.4227026 ],\n",
       "       [-0.01117388, -0.80864948,  0.09932984,  0.02224751],\n",
       "       [ 0.84210448,  0.30929911,  0.78699794,  1.09012776],\n",
       "       [-1.23014297, -0.13788033, -1.33331205, -1.44608785],\n",
       "       [-0.37686461,  0.98006827, -1.39061772, -1.31260282],\n",
       "       [-1.10824606,  0.08570939, -1.27600637, -1.44608785],\n",
       "       [-0.86445224,  1.65083742, -1.27600637, -1.17911778],\n",
       "       [ 0.59831066,  0.53288883,  0.55777524,  0.55618763],\n",
       "       [ 0.84210448, -0.13788033,  1.18813767,  1.35709783],\n",
       "       [-0.2549677 , -1.25582892,  0.09932984, -0.11123753],\n",
       "       [-0.13307079, -0.58505976,  0.44316389,  0.15573254],\n",
       "       [ 0.72020757, -0.58505976,  1.07352632,  1.35709783],\n",
       "       [-1.35203988,  0.30929911, -1.2187007 , -1.31260282],\n",
       "       [ 0.35451684, -0.13788033,  0.67238659,  0.8231577 ],\n",
       "       [-0.98634915,  0.75647855, -1.2187007 , -1.04563275],\n",
       "       [ 0.72020757, -0.58505976,  1.07352632,  1.22361279],\n",
       "       [ 2.5486612 ,  1.65083742,  1.53197172,  1.09012776],\n",
       "       [ 1.08589829, -0.13788033,  0.84430362,  1.49058286],\n",
       "       [ 1.08589829, -1.25582892,  1.18813767,  0.8231577 ],\n",
       "       [ 1.2077952 ,  0.30929911,  1.24544335,  1.49058286],\n",
       "       [-1.23014297, -0.13788033, -1.33331205, -1.17911778],\n",
       "       [-1.23014297,  0.08570939, -1.2187007 , -1.31260282]])"
      ]
     },
     "execution_count": 16,
     "metadata": {},
     "output_type": "execute_result"
    }
   ],
   "source": [
    "X_test "
   ]
  },
  {
   "cell_type": "code",
   "execution_count": 24,
   "id": "33e12e97-2493-48af-83b6-ea3a871ef340",
   "metadata": {},
   "outputs": [
    {
     "data": {
      "text/html": [
       "<style>#sk-container-id-3 {color: black;background-color: white;}#sk-container-id-3 pre{padding: 0;}#sk-container-id-3 div.sk-toggleable {background-color: white;}#sk-container-id-3 label.sk-toggleable__label {cursor: pointer;display: block;width: 100%;margin-bottom: 0;padding: 0.3em;box-sizing: border-box;text-align: center;}#sk-container-id-3 label.sk-toggleable__label-arrow:before {content: \"▸\";float: left;margin-right: 0.25em;color: #696969;}#sk-container-id-3 label.sk-toggleable__label-arrow:hover:before {color: black;}#sk-container-id-3 div.sk-estimator:hover label.sk-toggleable__label-arrow:before {color: black;}#sk-container-id-3 div.sk-toggleable__content {max-height: 0;max-width: 0;overflow: hidden;text-align: left;background-color: #f0f8ff;}#sk-container-id-3 div.sk-toggleable__content pre {margin: 0.2em;color: black;border-radius: 0.25em;background-color: #f0f8ff;}#sk-container-id-3 input.sk-toggleable__control:checked~div.sk-toggleable__content {max-height: 200px;max-width: 100%;overflow: auto;}#sk-container-id-3 input.sk-toggleable__control:checked~label.sk-toggleable__label-arrow:before {content: \"▾\";}#sk-container-id-3 div.sk-estimator input.sk-toggleable__control:checked~label.sk-toggleable__label {background-color: #d4ebff;}#sk-container-id-3 div.sk-label input.sk-toggleable__control:checked~label.sk-toggleable__label {background-color: #d4ebff;}#sk-container-id-3 input.sk-hidden--visually {border: 0;clip: rect(1px 1px 1px 1px);clip: rect(1px, 1px, 1px, 1px);height: 1px;margin: -1px;overflow: hidden;padding: 0;position: absolute;width: 1px;}#sk-container-id-3 div.sk-estimator {font-family: monospace;background-color: #f0f8ff;border: 1px dotted black;border-radius: 0.25em;box-sizing: border-box;margin-bottom: 0.5em;}#sk-container-id-3 div.sk-estimator:hover {background-color: #d4ebff;}#sk-container-id-3 div.sk-parallel-item::after {content: \"\";width: 100%;border-bottom: 1px solid gray;flex-grow: 1;}#sk-container-id-3 div.sk-label:hover label.sk-toggleable__label {background-color: #d4ebff;}#sk-container-id-3 div.sk-serial::before {content: \"\";position: absolute;border-left: 1px solid gray;box-sizing: border-box;top: 0;bottom: 0;left: 50%;z-index: 0;}#sk-container-id-3 div.sk-serial {display: flex;flex-direction: column;align-items: center;background-color: white;padding-right: 0.2em;padding-left: 0.2em;position: relative;}#sk-container-id-3 div.sk-item {position: relative;z-index: 1;}#sk-container-id-3 div.sk-parallel {display: flex;align-items: stretch;justify-content: center;background-color: white;position: relative;}#sk-container-id-3 div.sk-item::before, #sk-container-id-3 div.sk-parallel-item::before {content: \"\";position: absolute;border-left: 1px solid gray;box-sizing: border-box;top: 0;bottom: 0;left: 50%;z-index: -1;}#sk-container-id-3 div.sk-parallel-item {display: flex;flex-direction: column;z-index: 1;position: relative;background-color: white;}#sk-container-id-3 div.sk-parallel-item:first-child::after {align-self: flex-end;width: 50%;}#sk-container-id-3 div.sk-parallel-item:last-child::after {align-self: flex-start;width: 50%;}#sk-container-id-3 div.sk-parallel-item:only-child::after {width: 0;}#sk-container-id-3 div.sk-dashed-wrapped {border: 1px dashed gray;margin: 0 0.4em 0.5em 0.4em;box-sizing: border-box;padding-bottom: 0.4em;background-color: white;}#sk-container-id-3 div.sk-label label {font-family: monospace;font-weight: bold;display: inline-block;line-height: 1.2em;}#sk-container-id-3 div.sk-label-container {text-align: center;}#sk-container-id-3 div.sk-container {/* jupyter's `normalize.less` sets `[hidden] { display: none; }` but bootstrap.min.css set `[hidden] { display: none !important; }` so we also need the `!important` here to be able to override the default hidden behavior on the sphinx rendered scikit-learn.org. See: https://github.com/scikit-learn/scikit-learn/issues/21755 */display: inline-block !important;position: relative;}#sk-container-id-3 div.sk-text-repr-fallback {display: none;}</style><div id=\"sk-container-id-3\" class=\"sk-top-container\"><div class=\"sk-text-repr-fallback\"><pre>GaussianNB()</pre><b>In a Jupyter environment, please rerun this cell to show the HTML representation or trust the notebook. <br />On GitHub, the HTML representation is unable to render, please try loading this page with nbviewer.org.</b></div><div class=\"sk-container\" hidden><div class=\"sk-item\"><div class=\"sk-estimator sk-toggleable\"><input class=\"sk-toggleable__control sk-hidden--visually\" id=\"sk-estimator-id-3\" type=\"checkbox\" checked><label for=\"sk-estimator-id-3\" class=\"sk-toggleable__label sk-toggleable__label-arrow\">GaussianNB</label><div class=\"sk-toggleable__content\"><pre>GaussianNB()</pre></div></div></div></div></div>"
      ],
      "text/plain": [
       "GaussianNB()"
      ]
     },
     "execution_count": 24,
     "metadata": {},
     "output_type": "execute_result"
    }
   ],
   "source": [
    "gaussian = GaussianNB()\n",
    "gaussian.fit(X_train, y_train)\n"
   ]
  },
  {
   "cell_type": "code",
   "execution_count": 20,
   "id": "f60d8975-7594-423e-b037-410cbb1d9b4b",
   "metadata": {},
   "outputs": [],
   "source": [
    "y_pred = gaussian.predict(X_test)"
   ]
  },
  {
   "cell_type": "code",
   "execution_count": 21,
   "id": "0f524422-22e4-4d40-8fba-ec02b05a1dd0",
   "metadata": {},
   "outputs": [
    {
     "data": {
      "text/plain": [
       "array(['versicolor', 'setosa', 'virginica', 'versicolor', 'versicolor',\n",
       "       'setosa', 'versicolor', 'virginica', 'versicolor', 'versicolor',\n",
       "       'virginica', 'setosa', 'setosa', 'setosa', 'setosa', 'versicolor',\n",
       "       'virginica', 'versicolor', 'versicolor', 'virginica', 'setosa',\n",
       "       'virginica', 'setosa', 'virginica', 'virginica', 'virginica',\n",
       "       'virginica', 'virginica', 'setosa', 'setosa'], dtype='<U10')"
      ]
     },
     "execution_count": 21,
     "metadata": {},
     "output_type": "execute_result"
    }
   ],
   "source": [
    "y_pred"
   ]
  },
  {
   "cell_type": "code",
   "execution_count": 28,
   "id": "b4b3b5ea-c42f-4909-b254-7e5d3837ae15",
   "metadata": {},
   "outputs": [],
   "source": [
    "accuracy = accuracy_score(y_test, y_pred)\n",
    "precision = precision_score(y_test, y_pred, average='micro')\n",
    "recall = recall_score(y_test, y_pred, average='micro')"
   ]
  },
  {
   "cell_type": "code",
   "execution_count": 31,
   "id": "e212acb2-1493-4707-a6b8-b40c59f5142f",
   "metadata": {},
   "outputs": [
    {
     "name": "stdout",
     "output_type": "stream",
     "text": [
      "Accuracy: 1.0\n",
      "Precision: 1.0\n",
      "Recall: 1.0\n"
     ]
    }
   ],
   "source": [
    "print(f\"Accuracy: {accuracy}\")\n",
    "print(f\"Precision: {precision}\")\n",
    "print(f\"Recall: {recall}\")\n"
   ]
  },
  {
   "cell_type": "code",
   "execution_count": 32,
   "id": "7a6e36d2-0282-4c6c-b61a-a962580be142",
   "metadata": {},
   "outputs": [
    {
     "name": "stdout",
     "output_type": "stream",
     "text": [
      "[[10  0  0]\n",
      " [ 0  9  0]\n",
      " [ 0  0 11]]\n"
     ]
    }
   ],
   "source": [
    "cm = confusion_matrix(y_test, y_pred)\n",
    "print(cm)"
   ]
  },
  {
   "cell_type": "code",
   "execution_count": 33,
   "id": "8de7131d-adef-4cce-8979-2c5dc3ce2a0f",
   "metadata": {},
   "outputs": [
    {
     "name": "stdout",
     "output_type": "stream",
     "text": [
      "              precision    recall  f1-score   support\n",
      "\n",
      "      setosa       1.00      1.00      1.00        10\n",
      "  versicolor       1.00      1.00      1.00         9\n",
      "   virginica       1.00      1.00      1.00        11\n",
      "\n",
      "    accuracy                           1.00        30\n",
      "   macro avg       1.00      1.00      1.00        30\n",
      "weighted avg       1.00      1.00      1.00        30\n",
      "\n"
     ]
    }
   ],
   "source": [
    "classification_rep = classification_report(y_test, y_pred)\n",
    "print(classification_rep)\n"
   ]
  },
  {
   "cell_type": "code",
   "execution_count": null,
   "id": "1910d669-33b6-45f4-86d1-fae371911594",
   "metadata": {},
   "outputs": [],
   "source": [
    "NAME: ONKAR JADHAV\n",
    "ROLL_NO: 13205"
   ]
  },
  {
   "cell_type": "code",
   "execution_count": null,
   "id": "2b31a332-f9b9-460a-aa21-a9363c170eac",
   "metadata": {},
   "outputs": [],
   "source": []
  }
 ],
 "metadata": {
  "kernelspec": {
   "display_name": "Python 3 (ipykernel)",
   "language": "python",
   "name": "python3"
  },
  "language_info": {
   "codemirror_mode": {
    "name": "ipython",
    "version": 3
   },
   "file_extension": ".py",
   "mimetype": "text/x-python",
   "name": "python",
   "nbconvert_exporter": "python",
   "pygments_lexer": "ipython3",
   "version": "3.11.7"
  }
 },
 "nbformat": 4,
 "nbformat_minor": 5
}
